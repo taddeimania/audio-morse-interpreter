{
 "cells": [
  {
   "cell_type": "code",
   "execution_count": 1,
   "metadata": {
    "collapsed": false
   },
   "outputs": [],
   "source": [
    "from scipy.io import wavfile\n",
    "import pandas as pd\n",
    "import matplotlib.pyplot as plt\n",
    "import numpy as np"
   ]
  },
  {
   "cell_type": "code",
   "execution_count": null,
   "metadata": {
    "collapsed": true
   },
   "outputs": [],
   "source": [
    "%matplotlib inline"
   ]
  },
  {
   "cell_type": "code",
   "execution_count": 2,
   "metadata": {
    "collapsed": true
   },
   "outputs": [],
   "source": [
    "in_memory_wav = wavfile.read(\"morse.wav\")"
   ]
  },
  {
   "cell_type": "code",
   "execution_count": 3,
   "metadata": {
    "collapsed": false
   },
   "outputs": [],
   "source": [
    "small_df = pd.DataFrame(in_memory_wav[1][:,1], columns=[\"left\"])\n",
    "small_df[\"sample_loc\"] = small_df.index / 44100\n",
    "tiny_df = small_df[small_df.left > 10000]\n",
    "\n",
    "time_stamps = [item[1].sample_loc for item in tiny_df.iterrows()]"
   ]
  },
  {
   "cell_type": "code",
   "execution_count": 4,
   "metadata": {
    "collapsed": false
   },
   "outputs": [],
   "source": [
    "def get_letter_list(time_stamps):\n",
    "    old_loc = time_stamps[0]\n",
    "    stop_locs = [0]\n",
    "    letter_list = []\n",
    "\n",
    "    for idx, ts in enumerate(time_stamps):\n",
    "        if idx != 0:\n",
    "            val = (time_stamps[idx - 1] - old_loc) * 10\n",
    "        else:\n",
    "            val = 0\n",
    "\n",
    "        old_loc = time_stamps[idx - 1]\n",
    "        if val > .4:\n",
    "            stop_locs.append(idx)\n",
    "            if val > 10:\n",
    "                letter_list.append(stop_locs)\n",
    "                stop_locs = [idx]\n",
    "                continue\n",
    "\n",
    "    stop_locs.append(len(time_stamps))\n",
    "    letter_list.append(stop_locs)\n",
    "    return letter_list\n"
   ]
  },
  {
   "cell_type": "code",
   "execution_count": 5,
   "metadata": {
    "collapsed": false
   },
   "outputs": [],
   "source": [
    "def clean_gaps(letter_list):\n",
    "    gaps = []\n",
    "\n",
    "    for letter in letter_list:\n",
    "        current_letter = []\n",
    "        for idx, loc in enumerate(letter):\n",
    "            if idx > 0:\n",
    "                current_letter.append(loc - letter[idx - 1])\n",
    "        gaps.append(current_letter)\n",
    "    return gaps"
   ]
  },
  {
   "cell_type": "code",
   "execution_count": 6,
   "metadata": {
    "collapsed": true
   },
   "outputs": [],
   "source": [
    "def get_cw(gaps):\n",
    "    return [list(map(lambda x: \".\" if x < 4500 else \"-\", letter)) for letter in gaps]"
   ]
  },
  {
   "cell_type": "code",
   "execution_count": 7,
   "metadata": {
    "collapsed": true
   },
   "outputs": [],
   "source": [
    "def clean_cw(cw):\n",
    "    return list(map(lambda x: \"\".join(x), cw))"
   ]
  },
  {
   "cell_type": "code",
   "execution_count": 8,
   "metadata": {
    "collapsed": true
   },
   "outputs": [],
   "source": [
    "from string import ascii_letters\n",
    "\n",
    "def interpret_cw(cleaned_cw):\n",
    "    morse_dict = dict(zip(map(lambda x: \"\".join(x), cw), ascii_letters))\n",
    "    return \"\".join(list(map(lambda _: morse_dict.get(_), cleaned_cw)))"
   ]
  },
  {
   "cell_type": "code",
   "execution_count": 9,
   "metadata": {
    "collapsed": false
   },
   "outputs": [],
   "source": [
    "letter_list = get_letter_list(time_stamps)\n",
    "cleaned_gaps = clean_gaps(letter_list)\n",
    "cw = get_cw(cleaned_gaps)\n",
    "cleaned_cw = clean_cw(cw)\n",
    "plain_english = interpret_cw(cleaned_cw)"
   ]
  },
  {
   "cell_type": "code",
   "execution_count": 10,
   "metadata": {
    "collapsed": false
   },
   "outputs": [
    {
     "name": "stdout",
     "output_type": "stream",
     "text": [
      "abcdefghijklmnopqrstuvwxyz\n"
     ]
    }
   ],
   "source": [
    "print(plain_english)"
   ]
  }
 ],
 "metadata": {
  "kernelspec": {
   "display_name": "Python 3",
   "language": "python",
   "name": "python3"
  },
  "language_info": {
   "codemirror_mode": {
    "name": "ipython",
    "version": 3
   },
   "file_extension": ".py",
   "mimetype": "text/x-python",
   "name": "python",
   "nbconvert_exporter": "python",
   "pygments_lexer": "ipython3",
   "version": "3.5.0"
  }
 },
 "nbformat": 4,
 "nbformat_minor": 0
}
